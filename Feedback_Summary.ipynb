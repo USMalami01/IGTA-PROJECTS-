{
 "cells": [
  {
   "cell_type": "code",
   "execution_count": 20,
   "id": "3413b3be-b08d-4ea2-88f4-2bc3a3b6d19b",
   "metadata": {},
   "outputs": [
    {
     "name": "stdout",
     "output_type": "stream",
     "text": [
      "Library Successfully Loaded\n"
     ]
    }
   ],
   "source": [
    "import pandas as pd\n",
    "print (\"Library Successfully Loaded\")"
   ]
  },
  {
   "cell_type": "code",
   "execution_count": 21,
   "id": "4f37ed88-377c-4c16-8c03-7e53a2f1fd15",
   "metadata": {},
   "outputs": [],
   "source": [
    "# f_df = Feedback_DataFrame\n",
    "f_df = pd.read_csv(\"customer_feedback_scores.csv\")"
   ]
  },
  {
   "cell_type": "code",
   "execution_count": 22,
   "id": "be9fdda5-202d-47b5-8ff8-560ceb23e73b",
   "metadata": {},
   "outputs": [
    {
     "data": {
      "text/html": [
       "<div>\n",
       "<style scoped>\n",
       "    .dataframe tbody tr th:only-of-type {\n",
       "        vertical-align: middle;\n",
       "    }\n",
       "\n",
       "    .dataframe tbody tr th {\n",
       "        vertical-align: top;\n",
       "    }\n",
       "\n",
       "    .dataframe thead th {\n",
       "        text-align: right;\n",
       "    }\n",
       "</style>\n",
       "<table border=\"1\" class=\"dataframe\">\n",
       "  <thead>\n",
       "    <tr style=\"text-align: right;\">\n",
       "      <th></th>\n",
       "      <th>Date</th>\n",
       "      <th>Customer ID</th>\n",
       "      <th>Region</th>\n",
       "      <th>Product</th>\n",
       "      <th>Support Rating</th>\n",
       "      <th>Product Rating</th>\n",
       "      <th>Comments</th>\n",
       "    </tr>\n",
       "  </thead>\n",
       "  <tbody>\n",
       "    <tr>\n",
       "      <th>0</th>\n",
       "      <td>2024-01-05</td>\n",
       "      <td>CUST001</td>\n",
       "      <td>North</td>\n",
       "      <td>Software A</td>\n",
       "      <td>4</td>\n",
       "      <td>5</td>\n",
       "      <td>Quick resolution</td>\n",
       "    </tr>\n",
       "    <tr>\n",
       "      <th>1</th>\n",
       "      <td>2024-01-07</td>\n",
       "      <td>CUST002</td>\n",
       "      <td>South</td>\n",
       "      <td>Software B</td>\n",
       "      <td>3</td>\n",
       "      <td>4</td>\n",
       "      <td>Some bugs found</td>\n",
       "    </tr>\n",
       "    <tr>\n",
       "      <th>2</th>\n",
       "      <td>2024-01-09</td>\n",
       "      <td>CUST003</td>\n",
       "      <td>East</td>\n",
       "      <td>Software C</td>\n",
       "      <td>5</td>\n",
       "      <td>5</td>\n",
       "      <td>Very satisfied</td>\n",
       "    </tr>\n",
       "    <tr>\n",
       "      <th>3</th>\n",
       "      <td>2024-02-01</td>\n",
       "      <td>CUST004</td>\n",
       "      <td>North</td>\n",
       "      <td>Software A</td>\n",
       "      <td>4</td>\n",
       "      <td>4</td>\n",
       "      <td>Support was helpful</td>\n",
       "    </tr>\n",
       "    <tr>\n",
       "      <th>4</th>\n",
       "      <td>2024-02-10</td>\n",
       "      <td>CUST005</td>\n",
       "      <td>South</td>\n",
       "      <td>Software B</td>\n",
       "      <td>2</td>\n",
       "      <td>3</td>\n",
       "      <td>Could be improved</td>\n",
       "    </tr>\n",
       "  </tbody>\n",
       "</table>\n",
       "</div>"
      ],
      "text/plain": [
       "         Date Customer ID Region     Product  Support Rating  Product Rating  \\\n",
       "0  2024-01-05     CUST001  North  Software A               4               5   \n",
       "1  2024-01-07     CUST002  South  Software B               3               4   \n",
       "2  2024-01-09     CUST003   East  Software C               5               5   \n",
       "3  2024-02-01     CUST004  North  Software A               4               4   \n",
       "4  2024-02-10     CUST005  South  Software B               2               3   \n",
       "\n",
       "              Comments  \n",
       "0     Quick resolution  \n",
       "1      Some bugs found  \n",
       "2       Very satisfied  \n",
       "3  Support was helpful  \n",
       "4    Could be improved  "
      ]
     },
     "execution_count": 22,
     "metadata": {},
     "output_type": "execute_result"
    }
   ],
   "source": [
    "f_df.head()"
   ]
  },
  {
   "cell_type": "code",
   "execution_count": 23,
   "id": "764be529-4dc4-4e41-adc6-0ef108fc8270",
   "metadata": {},
   "outputs": [],
   "source": [
    "avg_rating = f_df.groupby(\"Product\")[[\"Support Rating\", \"Product Rating\"]].mean().reset_index()"
   ]
  },
  {
   "cell_type": "code",
   "execution_count": 24,
   "id": "18bf2c60-966f-4965-b123-db815686a4fb",
   "metadata": {},
   "outputs": [
    {
     "data": {
      "text/html": [
       "<div>\n",
       "<style scoped>\n",
       "    .dataframe tbody tr th:only-of-type {\n",
       "        vertical-align: middle;\n",
       "    }\n",
       "\n",
       "    .dataframe tbody tr th {\n",
       "        vertical-align: top;\n",
       "    }\n",
       "\n",
       "    .dataframe thead th {\n",
       "        text-align: right;\n",
       "    }\n",
       "</style>\n",
       "<table border=\"1\" class=\"dataframe\">\n",
       "  <thead>\n",
       "    <tr style=\"text-align: right;\">\n",
       "      <th></th>\n",
       "      <th>Product</th>\n",
       "      <th>Support Rating</th>\n",
       "      <th>Product Rating</th>\n",
       "    </tr>\n",
       "  </thead>\n",
       "  <tbody>\n",
       "    <tr>\n",
       "      <th>0</th>\n",
       "      <td>Software A</td>\n",
       "      <td>4.0</td>\n",
       "      <td>4.6</td>\n",
       "    </tr>\n",
       "    <tr>\n",
       "      <th>1</th>\n",
       "      <td>Software B</td>\n",
       "      <td>3.0</td>\n",
       "      <td>3.6</td>\n",
       "    </tr>\n",
       "    <tr>\n",
       "      <th>2</th>\n",
       "      <td>Software C</td>\n",
       "      <td>4.8</td>\n",
       "      <td>4.6</td>\n",
       "    </tr>\n",
       "  </tbody>\n",
       "</table>\n",
       "</div>"
      ],
      "text/plain": [
       "      Product  Support Rating  Product Rating\n",
       "0  Software A             4.0             4.6\n",
       "1  Software B             3.0             3.6\n",
       "2  Software C             4.8             4.6"
      ]
     },
     "execution_count": 24,
     "metadata": {},
     "output_type": "execute_result"
    }
   ],
   "source": [
    "avg_rating"
   ]
  },
  {
   "cell_type": "markdown",
   "id": "dddf83dd-b79f-4029-b6c6-5f449eed2694",
   "metadata": {},
   "source": [
    "# Creating Workbook"
   ]
  },
  {
   "cell_type": "code",
   "execution_count": 25,
   "id": "144f0332-c2e2-4067-bbaa-4cb63feda949",
   "metadata": {},
   "outputs": [],
   "source": [
    "writer = pd.ExcelWriter(\"Feedback_Summary.xlsx\", engine=\"xlsxwriter\")"
   ]
  },
  {
   "cell_type": "code",
   "execution_count": 26,
   "id": "48356dc4-6a38-4676-9e25-72971615f86c",
   "metadata": {},
   "outputs": [],
   "source": [
    "avg_rating.to_excel(writer, sheet_name=\"Feedback Summary\", index=False)"
   ]
  },
  {
   "cell_type": "code",
   "execution_count": 27,
   "id": "2475b745-523c-4ebd-bfcb-2e0023ad69f2",
   "metadata": {},
   "outputs": [],
   "source": [
    "# Creating the workbook object\n",
    "workbook = writer.book\n",
    "\n",
    "# Creating  the Worksheet Object\n",
    "worksheet = writer.sheets[\"Feedback Summary\"]\n",
    "\n",
    "# Creating a column chart\n",
    "chart = workbook.add_chart({\"type\": \"column\"})\n",
    "\n",
    "\n",
    "#Definition of the digits under \"Categories and Values\", 1=starting raw, 0=starting column, len=ending raw, 0=ending column\n",
    "\n",
    "# for Support Rating\n",
    "chart.add_series({\n",
    "    \"name\": \"F Summary by S Rating\",\n",
    "    \"categories\": [\"Feedback Summary\", 1, 0, len(avg_rating), 0], # X_Axis\n",
    "    \"values\": [\"Feedback Summary\", 1, 1, len(avg_rating), 1] # Y_Axis\n",
    "})\n",
    "\n",
    "# for Product Rating\n",
    "chart.add_series({\n",
    "    \"name\": \"F Summary by P Rating\",\n",
    "    \"categories\": [\"Feedback Summary\", 1, 0, len(avg_rating), 0], # X_Axis\n",
    "    \"values\": [\"Feedback Summary\", 1, 2, len(avg_rating), 2] # Y_Axis\n",
    "})\n",
    "\n",
    "\n",
    "chart.set_title({\"name\": \"Products Rating by S and P Rating\"})\n",
    "chart.set_x_axis({\"name\": \"Products\"})\n",
    "chart.set_y_axis({\"name\": \"S Rating/ P Rating (*)\"})\n",
    "\n",
    "# Chart Postion on Worksheet\n",
    "worksheet.insert_chart(\"G2\", chart)\n",
    "\n",
    "writer.close()"
   ]
  },
  {
   "cell_type": "code",
   "execution_count": null,
   "id": "f052e737-7a3e-4241-abc6-a4bcc1f3e5dd",
   "metadata": {},
   "outputs": [],
   "source": []
  }
 ],
 "metadata": {
  "kernelspec": {
   "display_name": "Python 3 (ipykernel)",
   "language": "python",
   "name": "python3"
  },
  "language_info": {
   "codemirror_mode": {
    "name": "ipython",
    "version": 3
   },
   "file_extension": ".py",
   "mimetype": "text/x-python",
   "name": "python",
   "nbconvert_exporter": "python",
   "pygments_lexer": "ipython3",
   "version": "3.13.2"
  }
 },
 "nbformat": 4,
 "nbformat_minor": 5
}
